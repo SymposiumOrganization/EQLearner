{
 "cells": [
  {
   "cell_type": "code",
   "execution_count": 1,
   "metadata": {},
   "outputs": [],
   "source": [
    "%load_ext autoreload\n",
    "%autoreload 2\n",
    "from eqlearner.dataset.multivariate.datasetcreator import DatasetCreator,utils_dataclasses\n",
    "from eqlearner.dataset.processing import tokenization\n",
    "import numpy as np\n",
    "from tqdm import tqdm"
   ]
  },
  {
   "cell_type": "markdown",
   "metadata": {},
   "source": [
    "### First of all define variable and operator variables"
   ]
  },
  {
   "cell_type": "code",
   "execution_count": 2,
   "metadata": {},
   "outputs": [],
   "source": [
    "basis_functions = [\"Id\",\"exp\",\"log\",\"sin\",\"sqrt\",\"inv\"] #Pay attention as the order is indeed important, for testing we put it in alphabetical order (apart from x)\n",
    "symbols = [\"x\",\"y\",\"z\",\"n\",\"p\"]"
   ]
  },
  {
   "cell_type": "markdown",
   "metadata": {},
   "source": [
    "### Define then the dataclasses number of elements and constants\n",
    "The first argument of Constants is the external constant interval, while the second, the internal constant interval"
   ]
  },
  {
   "cell_type": "code",
   "execution_count": 3,
   "metadata": {},
   "outputs": [],
   "source": [
    "num_elements = utils_dataclasses.NumElements(3,2)\n",
    "consts = utils_dataclasses.Constants([(10,10)],[(-5,5)]) "
   ]
  },
  {
   "cell_type": "code",
   "execution_count": 4,
   "metadata": {},
   "outputs": [],
   "source": [
    "creator_object = DatasetCreator(basis_functions,symbols,num_elements=num_elements,constants=consts, max_num_equations=100)"
   ]
  },
  {
   "cell_type": "code",
   "execution_count": 5,
   "metadata": {},
   "outputs": [
    {
     "data": {
      "text/plain": [
       "Function(elem_without_constant='exp(x)+log(x)+sqrt(y)', elem_with_constant=-4.91*sqrt(y) - 4.22*exp(x) - 3.58*log(x))"
      ]
     },
     "execution_count": 5,
     "metadata": {},
     "output_type": "execute_result"
    }
   ],
   "source": [
    "fun_object = creator_object.generate_fun()\n",
    "fun_object"
   ]
  },
  {
   "cell_type": "code",
   "execution_count": 6,
   "metadata": {},
   "outputs": [
    {
     "name": "stderr",
     "output_type": "stream",
     "text": [
      "100%|██████████| 500/500 [00:01<00:00, 329.25it/s]\n"
     ]
    }
   ],
   "source": [
    "for i in tqdm(range(500)):\n",
    "    fun_object = creator_object.generate_fun()"
   ]
  },
  {
   "cell_type": "markdown",
   "metadata": {},
   "source": [
    "### Define muldimensional range and generate evaluation points\n"
   ]
  },
  {
   "cell_type": "code",
   "execution_count": 7,
   "metadata": {},
   "outputs": [
    {
     "data": {
      "text/plain": [
       "array([140.424     ,   2.87887603,  -4.36584127])"
      ]
     },
     "execution_count": 7,
     "metadata": {},
     "output_type": "execute_result"
    }
   ],
   "source": [
    "support = []\n",
    "for x in symbols:\n",
    "    support.append(np.arange(0.1,3))\n",
    "y = creator_object.evaluate_function(support,fun_object.elem_with_constant)\n",
    "y"
   ]
  },
  {
   "cell_type": "markdown",
   "metadata": {},
   "source": [
    "### Get the tokens"
   ]
  },
  {
   "cell_type": "code",
   "execution_count": 8,
   "metadata": {},
   "outputs": [
    {
     "data": {
      "text/plain": [
       "[12, 16, 10, 25, 9, 16, 10, 26, 9, 25, 9, 25, 7, 5, 15, 17, 6, 13]"
      ]
     },
     "execution_count": 8,
     "metadata": {},
     "output_type": "execute_result"
    }
   ],
   "source": [
    "separated_dict = tokenization.extract_terms({\"Single\": [fun_object.elem_without_constant]})\n",
    "numberized_dict, sym_mapping = tokenization.numberize_terms(separated_dict,symbols=symbols)\n",
    "final_seq = tokenization.flatten_seq(numberized_dict,mapping=sym_mapping)\n",
    "final_seq"
   ]
  },
  {
   "cell_type": "markdown",
   "metadata": {},
   "source": [
    "### Get the string back"
   ]
  },
  {
   "cell_type": "code",
   "execution_count": 9,
   "metadata": {},
   "outputs": [
    {
     "data": {
      "text/plain": [
       "'1/x+1/y+x+x**(-2)'"
      ]
     },
     "execution_count": 9,
     "metadata": {},
     "output_type": "execute_result"
    }
   ],
   "source": [
    "tokenization.get_string(final_seq, sym_mapping=sym_mapping)"
   ]
  },
  {
   "cell_type": "code",
   "execution_count": null,
   "metadata": {},
   "outputs": [],
   "source": []
  },
  {
   "cell_type": "code",
   "execution_count": null,
   "metadata": {},
   "outputs": [],
   "source": []
  }
 ],
 "metadata": {
  "kernelspec": {
   "display_name": "Python 3",
   "language": "python",
   "name": "python3"
  },
  "language_info": {
   "codemirror_mode": {
    "name": "ipython",
    "version": 3
   },
   "file_extension": ".py",
   "mimetype": "text/x-python",
   "name": "python",
   "nbconvert_exporter": "python",
   "pygments_lexer": "ipython3",
   "version": "3.8.5"
  }
 },
 "nbformat": 4,
 "nbformat_minor": 4
}
