{
 "cells": [
  {
   "cell_type": "markdown",
   "metadata": {},
   "source": [
    "Just a small tutorial on how to use the library.\n",
    "Install it by typing:\n",
    "pip3 install -e DatasetCreatorLib/ \n",
    "\n",
    "The e flag will allow to make modification in the code and avoid the need of reinstalling it"
   ]
  },
  {
   "cell_type": "code",
   "execution_count": 1,
   "metadata": {
    "tags": []
   },
   "outputs": [],
   "source": [
    "%load_ext autoreload\n",
    "%autoreload \n",
    "\n",
    "from eq_learner.DatasetCreator import DatasetCreator\n",
    "from sympy import sin, Symbol, log, exp \n",
    "import numpy as np"
   ]
  },
  {
   "cell_type": "markdown",
   "metadata": {},
   "source": [
    "The basis function order **is important**. Note that the basis functions should be passed **without** the independent variable (i.e. sin and not sin(x))"
   ]
  },
  {
   "cell_type": "code",
   "execution_count": 2,
   "metadata": {},
   "outputs": [],
   "source": [
    "x = Symbol('x')\n",
    "basis_functions = [x,sin,log,exp]"
   ]
  },
  {
   "cell_type": "markdown",
   "metadata": {},
   "source": [
    "Create a func generator object. As argument you need to pass the basis_function and some keywords arguments regarding how many terms from each class you want to have.\n"
   ]
  },
  {
   "cell_type": "code",
   "execution_count": 3,
   "metadata": {},
   "outputs": [],
   "source": [
    "fun_generator = DatasetCreator(basis_functions, constants_enabled=False)"
   ]
  },
  {
   "cell_type": "markdown",
   "metadata": {},
   "source": [
    "Call the fun_generator with no arguments for return the equation string and a dictionary containing a list of each added.\n",
    "\n",
    "**Idea for Tokenization**: Instead of using the string (on which we do not have so much control as simpy does not allow added ordering), shall we use tokenize using the dictionary? the plus sign could be bypassed and considered as a space in NLP"
   ]
  },
  {
   "cell_type": "code",
   "execution_count": 4,
   "metadata": {
    "tags": []
   },
   "outputs": [
    {
     "name": "stdout",
     "output_type": "stream",
     "text": [
      "string: \n",
      "  exp(sin(x)**2 + sin(x)) + exp(log(x)**3 + log(x)**2 + 1) \n",
      "\n",
      "dictionary \n",
      " {'Single': [], 'binomial': [], 'N_terms': [], 'compositions': [exp(log(x)**3 + log(x)**2 + 1), exp(sin(x)**2 + sin(x))], 'division': []} \n",
      "\n",
      "dictionary clean \n",
      " {'Single': [], 'binomial': [], 'N_terms': [], 'compositions': [exp(log(x)**3 + log(x)**2 + 1), exp(sin(x)**2 + sin(x))], 'division': []} \n",
      "\n"
     ]
    }
   ],
   "source": [
    "string, dictionary, dictionary_clean =  fun_generator.generate_fun()\n",
    "print(\"string: \\n  {} \\n\".format(string))\n",
    "print(\"dictionary \\n {} \\n\".format(dictionary))\n",
    "print(\"dictionary clean \\n {} \\n\".format(dictionary_clean))\n"
   ]
  },
  {
   "cell_type": "markdown",
   "metadata": {},
   "source": [
    "To make prediction use evaluate function"
   ]
  },
  {
   "cell_type": "code",
   "execution_count": 5,
   "metadata": {},
   "outputs": [
    {
     "data": {
      "text/plain": [
       "(array([ 1,  2,  3,  4,  5,  6,  7,  8,  9, 10, 11, 12, 13, 14, 15, 16, 17,\n",
       "        18, 19]),\n",
       " array([7.42760597e+00, 1.18070108e+01, 3.53984100e+01, 2.67501181e+02,\n",
       "        2.34399540e+03, 2.12201971e+04, 1.90022877e+05, 1.64911126e+06,\n",
       "        1.37362331e+07, 1.09339652e+08, 8.30521139e+08, 6.02067895e+09,\n",
       "        4.16962813e+10, 2.76275535e+11, 1.75434948e+12, 1.06953047e+13,\n",
       "        6.27122929e+13, 3.54288963e+14, 1.93171589e+15]))"
      ]
     },
     "execution_count": 5,
     "metadata": {},
     "output_type": "execute_result"
    }
   ],
   "source": [
    "support = np.arange(1,20)\n",
    "y = fun_generator.evaluate_function(support,string)\n",
    "support,y"
   ]
  },
  {
   "cell_type": "markdown",
   "metadata": {},
   "source": [
    "You can also generate batch of equation in a single step with generate_batch"
   ]
  },
  {
   "cell_type": "code",
   "execution_count": 9,
   "metadata": {
    "tags": []
   },
   "outputs": [
    {
     "ename": "NameError",
     "evalue": "name 'tokenization' is not defined",
     "output_type": "error",
     "traceback": [
      "\u001b[0;31m---------------------------------------------------------------------------\u001b[0m",
      "\u001b[0;31mNameError\u001b[0m                                 Traceback (most recent call last)",
      "\u001b[0;32m<ipython-input-9-72fbb8af4786>\u001b[0m in \u001b[0;36m<module>\u001b[0;34m\u001b[0m\n\u001b[1;32m      2\u001b[0m \u001b[0mnumber_to_generate\u001b[0m \u001b[0;34m=\u001b[0m \u001b[0;36m5\u001b[0m\u001b[0;34m\u001b[0m\u001b[0;34m\u001b[0m\u001b[0m\n\u001b[1;32m      3\u001b[0m \u001b[0mres\u001b[0m \u001b[0;34m=\u001b[0m \u001b[0mfun_generator\u001b[0m\u001b[0;34m.\u001b[0m\u001b[0mgenerate_batch\u001b[0m\u001b[0;34m(\u001b[0m\u001b[0msupport\u001b[0m\u001b[0;34m,\u001b[0m \u001b[0mnumber_to_generate\u001b[0m\u001b[0;34m)\u001b[0m\u001b[0;34m\u001b[0m\u001b[0;34m\u001b[0m\u001b[0m\n\u001b[0;32m----> 4\u001b[0;31m \u001b[0mtokenization\u001b[0m\u001b[0;34m.\u001b[0m\u001b[0mpipeline\u001b[0m\u001b[0;34m(\u001b[0m\u001b[0mres\u001b[0m\u001b[0;34m)\u001b[0m\u001b[0;34m\u001b[0m\u001b[0;34m\u001b[0m\u001b[0m\n\u001b[0m\u001b[1;32m      5\u001b[0m \u001b[0;34m\u001b[0m\u001b[0m\n\u001b[1;32m      6\u001b[0m \u001b[0mprint\u001b[0m\u001b[0;34m(\u001b[0m\u001b[0;34m\"Number of equations\"\u001b[0m\u001b[0;34m,\u001b[0m \u001b[0mlen\u001b[0m\u001b[0;34m(\u001b[0m\u001b[0mres\u001b[0m\u001b[0;34m)\u001b[0m\u001b[0;34m)\u001b[0m\u001b[0;34m\u001b[0m\u001b[0;34m\u001b[0m\u001b[0m\n",
      "\u001b[0;31mNameError\u001b[0m: name 'tokenization' is not defined"
     ]
    }
   ],
   "source": [
    "support = np.arange(1,20)\n",
    "number_to_generate = 5\n",
    "res = fun_generator.generate_batch(support, number_to_generate)\n",
    "tokenization.pipeline(res)\n",
    "\n",
    "print(\"Number of equations\", len(res))\n",
    "print(\"Example\", res[0])"
   ]
  },
  {
   "cell_type": "code",
   "execution_count": 8,
   "metadata": {},
   "outputs": [
    {
     "data": {
      "text/plain": [
       "([array([[ 1.        ,  2.        ,  3.        ,  4.        ],\n",
       "         [ 0.93591468,  1.00654058,  0.14931173, -0.20340524]]),\n",
       "  array([[1.00000000e+00, 2.00000000e+00, 3.00000000e+00, 4.00000000e+00],\n",
       "         [4.17163711e+02, 1.62828498e+05, 6.56604943e+07, 2.64891262e+10]]),\n",
       "  array([[ 1.        ,  2.        ,  3.        ,  4.        ],\n",
       "         [ 1.81859485,  0.37728878,  4.09442327, 15.74433474]]),\n",
       "  array([[ 1.        ,  2.        ,  3.        ,  4.        ],\n",
       "         [ 1.34283895,  1.59293173,  0.14151661, -0.42875991]]),\n",
       "  array([[1.00000000e+00, 2.00000000e+00, 3.00000000e+00, 4.00000000e+00],\n",
       "         [5.95082432e+01, 3.26902316e+06, 2.35385267e+17, 8.22301271e+36]])],\n",
       " [{'Single': [],\n",
       "   'binomial': [],\n",
       "   'N_terms': [],\n",
       "   'compositions': [log(sin(x)**2 + sin(x) + 1)],\n",
       "   'division': []},\n",
       "  {'Single': [exp(6*x) + exp(2*x) + exp(x)],\n",
       "   'binomial': [],\n",
       "   'N_terms': [],\n",
       "   'compositions': [sin(x**3 + x), x*exp(log(x)**3 + log(x)**2 + 1)],\n",
       "   'division': []},\n",
       "  {'Single': [log(x)**6 + log(x)**5 + log(x)**4],\n",
       "   'binomial': [],\n",
       "   'N_terms': [],\n",
       "   'compositions': [sin(x**3 + x**2), sin(x**3 + 1)],\n",
       "   'division': []},\n",
       "  {'Single': [sin(x)**4 + sin(x)],\n",
       "   'binomial': [],\n",
       "   'N_terms': [],\n",
       "   'compositions': [],\n",
       "   'division': []},\n",
       "  {'Single': [sin(x)**5 + sin(x)**4 + sin(x)**3 + sin(x)**2 + sin(x) + 1],\n",
       "   'binomial': [],\n",
       "   'N_terms': [],\n",
       "   'compositions': [exp(x**3 + x**2 + x + 1), sin(log(x)**2 + 1)],\n",
       "   'division': []}])"
      ]
     },
     "execution_count": 8,
     "metadata": {},
     "output_type": "execute_result"
    }
   ],
   "source": [
    "support = np.arange(1,5)\n",
    "number_to_generate = 5\n",
    "res = fun_generator.generate_batch(support, number_to_generate)\n",
    "res"
   ]
  },
  {
   "cell_type": "markdown",
   "metadata": {},
   "source": [
    "ToDo for the future:\n",
    "\n",
    "1. Add X and Y noise\n",
    "2. Constrains solution to 0 if there are Nan or +/- inf\n",
    "3. Add constants"
   ]
  }
 ],
 "metadata": {
  "kernelspec": {
   "display_name": "Python 3",
   "language": "python",
   "name": "python3"
  },
  "language_info": {
   "codemirror_mode": {
    "name": "ipython",
    "version": 3
   },
   "file_extension": ".py",
   "mimetype": "text/x-python",
   "name": "python",
   "nbconvert_exporter": "python",
   "pygments_lexer": "ipython3",
   "version": "3.6.9"
  }
 },
 "nbformat": 4,
 "nbformat_minor": 2
}
