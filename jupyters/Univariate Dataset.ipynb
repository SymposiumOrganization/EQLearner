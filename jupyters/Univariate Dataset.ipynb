{
 "cells": [
  {
   "cell_type": "markdown",
   "metadata": {},
   "source": [
    "## How to generate an univartiate Dataset"
   ]
  },
  {
   "cell_type": "code",
   "execution_count": 1,
   "metadata": {},
   "outputs": [],
   "source": [
    "%load_ext autoreload\n",
    "%autoreload \n",
    "\n",
    "from eqlearner.dataset.univariate.datasetcreator import DatasetCreator\n",
    "from sympy import sin, Symbol, log, exp \n",
    "import numpy as np"
   ]
  },
  {
   "cell_type": "markdown",
   "metadata": {},
   "source": [
    "The basis function order **is important**. Note that the basis functions should be passed **without** the independent variable (i.e. sin and not sin(x))"
   ]
  },
  {
   "cell_type": "code",
   "execution_count": 2,
   "metadata": {},
   "outputs": [],
   "source": [
    "x = Symbol('x')\n",
    "basis_functions = [x,sin,log,exp]"
   ]
  },
  {
   "cell_type": "markdown",
   "metadata": {},
   "source": [
    "Create a func generator object. As argument you need to pass the basis_function and some keywords arguments regarding how many terms from each class you want to have."
   ]
  },
  {
   "cell_type": "code",
   "execution_count": 3,
   "metadata": {},
   "outputs": [],
   "source": [
    "fun_generator = DatasetCreator(basis_functions, constants_enabled=False)"
   ]
  },
  {
   "cell_type": "markdown",
   "metadata": {},
   "source": [
    "Call the fun_generator with no arguments for return the equation string and a dictionary containing a list of each added."
   ]
  },
  {
   "cell_type": "code",
   "execution_count": 4,
   "metadata": {},
   "outputs": [
    {
     "name": "stdout",
     "output_type": "stream",
     "text": [
      "string: \n",
      "  exp(6*x) + exp(4*x) + exp(3*x) + exp(x) + sin(exp(3*x) + exp(2*x) + exp(x) + 1) + 1 \n",
      "\n",
      "dictionary \n",
      " {'Single': [exp(6*x) + exp(4*x) + exp(3*x) + exp(x) + 1], 'binomial': [], 'N_terms': [], 'compositions': [sin(exp(3*x) + exp(2*x) + exp(x) + 1)]} \n",
      "\n",
      "dictionary clean \n",
      " {'Single': [exp(6*x) + exp(4*x) + exp(3*x) + exp(x) + 1], 'binomial': [], 'N_terms': [], 'compositions': [sin(exp(3*x) + exp(2*x) + exp(x) + 1)]} \n",
      "\n"
     ]
    }
   ],
   "source": [
    "string, dictionary, dictionary_clean =  fun_generator.generate_fun()\n",
    "print(\"string: \\n  {} \\n\".format(string))\n",
    "print(\"dictionary \\n {} \\n\".format(dictionary))\n",
    "print(\"dictionary clean \\n {} \\n\".format(dictionary_clean))"
   ]
  },
  {
   "cell_type": "markdown",
   "metadata": {},
   "source": [
    "To make prediction use evaluate function"
   ]
  },
  {
   "cell_type": "code",
   "execution_count": 5,
   "metadata": {},
   "outputs": [
    {
     "data": {
      "text/plain": [
       "(array([ 1,  2,  3,  4,  5,  6,  7,  8,  9, 10, 11, 12, 13, 14, 15, 16, 17,\n",
       "        18, 19]),\n",
       " array([4.81609556e+02, 1.66148561e+05, 6.58308491e+07, 2.64981711e+10,\n",
       "        1.06869630e+13, 4.31125810e+15, 1.73927639e+18, 7.01673670e+20,\n",
       "        2.83075335e+23, 1.14200739e+26, 4.60718664e+28, 1.85867175e+31,\n",
       "        7.49841700e+33, 3.02507732e+36, 1.22040329e+39, 4.92345829e+41,\n",
       "        1.98626484e+44, 8.01316426e+46, 3.23274119e+49]))"
      ]
     },
     "execution_count": 5,
     "metadata": {},
     "output_type": "execute_result"
    }
   ],
   "source": [
    "support = np.arange(1,20)\n",
    "y = fun_generator.evaluate_function(support,string)\n",
    "support,y"
   ]
  },
  {
   "cell_type": "markdown",
   "metadata": {},
   "source": [
    "You can also generate batch of equation in a single step with generate_batch"
   ]
  },
  {
   "cell_type": "code",
   "execution_count": 6,
   "metadata": {},
   "outputs": [
    {
     "name": "stdout",
     "output_type": "stream",
     "text": [
      "Number of equations 5\n",
      "Example of input [[1.00000000e+00 2.00000000e+00 3.00000000e+00 4.00000000e+00\n",
      "  5.00000000e+00 6.00000000e+00 7.00000000e+00 8.00000000e+00\n",
      "  9.00000000e+00 1.00000000e+01 1.10000000e+01 1.20000000e+01\n",
      "  1.30000000e+01 1.40000000e+01 1.50000000e+01 1.60000000e+01\n",
      "  1.70000000e+01 1.80000000e+01 1.90000000e+01]\n",
      " [6.43383594e+00 1.77950984e+01 1.05815443e+02 1.06975456e+03\n",
      "  1.17191417e+04 1.27321981e+05 1.33014768e+06 1.31928456e+07\n",
      "  1.23626092e+08 1.09339652e+09 9.13573253e+09 7.22481474e+10\n",
      "  5.42051657e+11 3.86785749e+12 2.63152422e+13 1.71124876e+14\n",
      "  1.06610898e+15 6.37720133e+15 3.67026019e+16]]\n",
      "Example of out before tokenization {'Single': [sin(x)**6 + sin(x)**5 + sin(x)**4 + sin(x)**3 + sin(x)], 'binomial': [], 'N_terms': [], 'compositions': [log(exp(x)), x*exp(log(x)**3 + log(x)**2 + 1)]}\n",
      "Example of out after tokenization [12  2  5  1  6  7 21  9  2  5  1  6  7 20  9  2  5  1  6  7 19  9  2  5\n",
      "  1  6  7 18  9  2  5  1  6  9  4  5  3  5  1  6  6  9  1  8  3  5  4  5\n",
      "  1  6  7 18  9  4  5  1  6  7 17  9 16  6 13]\n"
     ]
    }
   ],
   "source": [
    "from eqlearner.dataset.processing import tokenization\n",
    "support = np.arange(1,20)\n",
    "number_to_generate = 5\n",
    "inp, out = fun_generator.generate_batch(support, number_to_generate)\n",
    "t = tokenization.pipeline(out)\n",
    "\n",
    "assert len(inp) == len(out)\n",
    "print(\"Number of equations\", len(inp))\n",
    "print(\"Example of input\", inp[0])\n",
    "print(\"Example of out before tokenization\", out[0])\n",
    "print(\"Example of out after tokenization\", t[0])"
   ]
  },
  {
   "cell_type": "markdown",
   "metadata": {},
   "source": [
    "## Call generate set for generating a training and test set"
   ]
  },
  {
   "cell_type": "code",
   "execution_count": 7,
   "metadata": {},
   "outputs": [],
   "source": [
    "train_dataset, info_training = fun_generator.generate_set(support,25,isTraining=True)"
   ]
  },
  {
   "cell_type": "code",
   "execution_count": 8,
   "metadata": {},
   "outputs": [],
   "source": [
    "test_dataset, info_testing = fun_generator.generate_set(support,5,isTraining=False)"
   ]
  },
  {
   "cell_type": "markdown",
   "metadata": {},
   "source": [
    "## We can directly use then the dataset_loader function to create iterators"
   ]
  },
  {
   "cell_type": "code",
   "execution_count": 9,
   "metadata": {},
   "outputs": [],
   "source": [
    "from eqlearner.architectures.utils import dataset_loader"
   ]
  },
  {
   "cell_type": "code",
   "execution_count": 10,
   "metadata": {},
   "outputs": [],
   "source": [
    "train_loader, valid_loader, test_loader, valid_idx, train_idx = dataset_loader(train_dataset,test_dataset)"
   ]
  },
  {
   "cell_type": "markdown",
   "metadata": {},
   "source": [
    "## Saving the data"
   ]
  },
  {
   "cell_type": "code",
   "execution_count": 12,
   "metadata": {},
   "outputs": [
    {
     "name": "stdout",
     "output_type": "stream",
     "text": [
      "The autoreload extension is already loaded. To reload it, use:\n",
      "  %reload_ext autoreload\n"
     ]
    }
   ],
   "source": [
    "%load_ext autoreload\n",
    "%autoreload \n",
    "from eqlearner.dataset.utils import save_dataset, load_dataset"
   ]
  },
  {
   "cell_type": "code",
   "execution_count": null,
   "metadata": {},
   "outputs": [],
   "source": [
    "save_dataset(train_dataset, info_training, \n",
    "             test_dataset, info_testing, path=\"./dataset.npy\")"
   ]
  },
  {
   "cell_type": "code",
   "execution_count": null,
   "metadata": {},
   "outputs": [],
   "source": []
  },
  {
   "cell_type": "code",
   "execution_count": null,
   "metadata": {},
   "outputs": [],
   "source": []
  }
 ],
 "metadata": {
  "kernelspec": {
   "display_name": "Python 3",
   "language": "python",
   "name": "python3"
  },
  "language_info": {
   "codemirror_mode": {
    "name": "ipython",
    "version": 3
   },
   "file_extension": ".py",
   "mimetype": "text/x-python",
   "name": "python",
   "nbconvert_exporter": "python",
   "pygments_lexer": "ipython3",
   "version": "3.8.5"
  }
 },
 "nbformat": 4,
 "nbformat_minor": 4
}
